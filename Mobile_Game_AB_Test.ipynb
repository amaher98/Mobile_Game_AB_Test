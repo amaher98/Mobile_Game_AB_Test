{
 "cells": [
  {
   "cell_type": "markdown",
   "id": "dc598434-25c7-4844-b0cc-571636f4dca3",
   "metadata": {},
   "source": [
    "## 1. Of cats and cookies\n",
    "<p><a href=\"https://www.facebook.com/cookiecatsgame\">Cookie Cats</a> is a hugely popular mobile puzzle game developed by <a href=\"http://tactile.dk\">Tactile Entertainment</a>. It's a classic \"connect three\"-style puzzle game where the player must connect tiles of the same color to clear the board and win the level. It also features singing cats. We're not kidding! As players progress through the levels of the game, they will occasionally encounter gates that force them to wait a non-trivial amount of time or make an in-app purchase to progress. In addition to driving in-app purchases, these gates serve the important purpose of giving players an enforced break from playing the game, hopefully resulting in that the player's enjoyment of the game being increased and prolonged.</p>\n",
    "<p>But where should the gates be placed? Initially the first gate was placed at level 30, but in this notebook we're going to analyze an AB-test where we moved the first gate in Cookie Cats from level 30 to level 40. In particular, we will look at the impact on player retention. But before we get to that, a key step before undertaking any analysis is understanding the data. So let's load it in and take a look!</p>"
   ]
  },
  {
   "cell_type": "code",
   "execution_count": 1,
   "id": "6cb20372-28cb-4aaf-a5cb-765af5f2151c",
   "metadata": {},
   "outputs": [
    {
     "data": {
      "text/html": [
       "<div>\n",
       "<style scoped>\n",
       "    .dataframe tbody tr th:only-of-type {\n",
       "        vertical-align: middle;\n",
       "    }\n",
       "\n",
       "    .dataframe tbody tr th {\n",
       "        vertical-align: top;\n",
       "    }\n",
       "\n",
       "    .dataframe thead th {\n",
       "        text-align: right;\n",
       "    }\n",
       "</style>\n",
       "<table border=\"1\" class=\"dataframe\">\n",
       "  <thead>\n",
       "    <tr style=\"text-align: right;\">\n",
       "      <th></th>\n",
       "      <th>userid</th>\n",
       "      <th>version</th>\n",
       "      <th>sum_gamerounds</th>\n",
       "      <th>retention_1</th>\n",
       "      <th>retention_7</th>\n",
       "    </tr>\n",
       "  </thead>\n",
       "  <tbody>\n",
       "    <tr>\n",
       "      <th>0</th>\n",
       "      <td>116</td>\n",
       "      <td>gate_30</td>\n",
       "      <td>3</td>\n",
       "      <td>False</td>\n",
       "      <td>False</td>\n",
       "    </tr>\n",
       "    <tr>\n",
       "      <th>1</th>\n",
       "      <td>337</td>\n",
       "      <td>gate_30</td>\n",
       "      <td>38</td>\n",
       "      <td>True</td>\n",
       "      <td>False</td>\n",
       "    </tr>\n",
       "    <tr>\n",
       "      <th>2</th>\n",
       "      <td>377</td>\n",
       "      <td>gate_40</td>\n",
       "      <td>165</td>\n",
       "      <td>True</td>\n",
       "      <td>False</td>\n",
       "    </tr>\n",
       "    <tr>\n",
       "      <th>3</th>\n",
       "      <td>483</td>\n",
       "      <td>gate_40</td>\n",
       "      <td>1</td>\n",
       "      <td>False</td>\n",
       "      <td>False</td>\n",
       "    </tr>\n",
       "    <tr>\n",
       "      <th>4</th>\n",
       "      <td>488</td>\n",
       "      <td>gate_40</td>\n",
       "      <td>179</td>\n",
       "      <td>True</td>\n",
       "      <td>True</td>\n",
       "    </tr>\n",
       "  </tbody>\n",
       "</table>\n",
       "</div>"
      ],
      "text/plain": [
       "   userid  version  sum_gamerounds  retention_1  retention_7\n",
       "0     116  gate_30               3        False        False\n",
       "1     337  gate_30              38         True        False\n",
       "2     377  gate_40             165         True        False\n",
       "3     483  gate_40               1        False        False\n",
       "4     488  gate_40             179         True         True"
      ]
     },
     "execution_count": 1,
     "metadata": {},
     "output_type": "execute_result"
    }
   ],
   "source": [
    "# Importing pandas\n",
    "import pandas as pd\n",
    "\n",
    "# Reading in the data\n",
    "df = pd.read_csv(\"cookie_cats.csv\")\n",
    "\n",
    "# Showing the first few rows\n",
    "df.head()"
   ]
  },
  {
   "cell_type": "markdown",
   "id": "fe444725-7469-4deb-8d8d-13d5ce0b9ea5",
   "metadata": {},
   "source": [
    "## 2. The AB-test data\n",
    "<p>The data we have is from 90,189 players that installed the game while the AB-test was running. The variables are:</p>\n",
    "<ul>\n",
    "<li><code>userid</code> - a unique number that identifies each player.</li>\n",
    "<li><code>version</code> - whether the player was put in the control group (<code>gate_30</code> - a gate at level 30) or the group with the moved gate (<code>gate_40</code> - a gate at level 40).</li>\n",
    "<li><code>sum_gamerounds</code> - the number of game rounds played by the player during the first 14 days after install.</li>\n",
    "<li><code>retention_1</code> - did the player come back and play <strong>1 day</strong> after installing?</li>\n",
    "<li><code>retention_7</code> - did the player come back and play <strong>7 days</strong> after installing?</li>\n",
    "</ul>\n",
    "<p>When a player installed the game, he or she was randomly assigned to either <code>gate_30</code> or <code>gate_40</code>. As a sanity check, let's see if there are roughly the same number of players in each AB group. </p>"
   ]
  },
  {
   "cell_type": "code",
   "execution_count": 2,
   "id": "2a35dc0c-9965-4863-96d0-a603ebe3ef20",
   "metadata": {},
   "outputs": [
    {
     "data": {
      "text/plain": [
       "gate_40    45489\n",
       "gate_30    44700\n",
       "Name: version, dtype: int64"
      ]
     },
     "execution_count": 2,
     "metadata": {},
     "output_type": "execute_result"
    }
   ],
   "source": [
    "# Counting the number of players in each AB group.\n",
    "df.version.value_counts()"
   ]
  },
  {
   "cell_type": "code",
   "execution_count": 3,
   "id": "6a99b513-c7a2-4eae-b91f-93284ddf43e0",
   "metadata": {},
   "outputs": [
    {
     "data": {
      "text/plain": [
       "gate_40    0.504374\n",
       "gate_30    0.495626\n",
       "Name: version, dtype: float64"
      ]
     },
     "execution_count": 3,
     "metadata": {},
     "output_type": "execute_result"
    }
   ],
   "source": [
    "# The percent of the players in each AB group.\n",
    "df.version.value_counts(normalize=True)"
   ]
  },
  {
   "cell_type": "markdown",
   "id": "a5dbfbaf-8a87-4b2d-b4e1-e81d96c22db5",
   "metadata": {},
   "source": [
    "## 3. The distribution of game rounds"
   ]
  },
  {
   "cell_type": "code",
   "execution_count": 4,
   "id": "fa70fa53-d79a-495f-828c-64763f8d9c86",
   "metadata": {},
   "outputs": [
    {
     "data": {
      "text/plain": [
       "Text(0, 0.5, 'User Count')"
      ]
     },
     "execution_count": 4,
     "metadata": {},
     "output_type": "execute_result"
    },
    {
     "data": {
      "image/png": "[encoded data removed]",
      "text/plain": [
       "<Figure size 432x288 with 1 Axes>"
      ]
     },
     "metadata": {
      "needs_background": "light"
     },
     "output_type": "display_data"
    }
   ],
   "source": [
    "# This command makes plots appear in the notebook\n",
    "%matplotlib inline\n",
    "\n",
    "# Counting the number of players for each number of game rounds \n",
    "plot_df = df.groupby('sum_gamerounds')['userid'].count()\n",
    "\n",
    "# Plotting the distribution of players that played 0 to 100 game rounds\n",
    "ax = plot_df.head(n=100).plot(x=\"sum_gamerounds\", y=\"userid\", kind=\"hist\")\n",
    "ax.set_xlabel(\"Game Rounds\")\n",
    "ax.set_ylabel(\"User Count\")"
   ]
  },
  {
   "cell_type": "markdown",
   "id": "45166b10-04e3-46cb-881d-c6f586059383",
   "metadata": {},
   "source": [
    "## 4. Overall 1-day retention\n",
    "<p>In the plot above we can see that some players install the game but then never play it (0 game rounds), some players just play a couple of game rounds in their first week, and some get really hooked!</p>\n",
    "<p>What we want is for players to like the game and to get hooked. A common metric in the video gaming industry for how fun and engaging a game is <em>1-day retention</em>: The percentage of players that comes back and plays the game <em>one day</em> after they have installed it.  The higher 1-day retention is, the easier it is to retain players and build a large player base. </p>\n",
    "<p>As a first step, let's look at what 1-day retention is overall.</p>"
   ]
  },
  {
   "cell_type": "code",
   "execution_count": 5,
   "id": "ac20ae55-b635-4de2-9fa9-a735492cdf6e",
   "metadata": {},
   "outputs": [
    {
     "data": {
      "text/plain": [
       "0.4452095044850259"
      ]
     },
     "execution_count": 5,
     "metadata": {},
     "output_type": "execute_result"
    }
   ],
   "source": [
    "# The % of users that came back the day after they installed\n",
    "df['retention_1'].mean()\n",
    "\n",
    "# df['retention_1'].sum() / df['retention_1'].count()\n",
    "# df[df['retention_1'] == True].shape[0] / df.shape[0]\n",
    "# df[df['retention_1']].shape[0] / df.shape[0]"
   ]
  },
  {
   "cell_type": "markdown",
   "id": "9dbb7853-2248-44a1-a5a9-53030139796a",
   "metadata": {},
   "source": [
    "## 5. 1-day retention by AB-group\n",
    "<p>So, a little less than half of the players come back one day after installing the game. Now that we have a benchmark, let's look at how 1-day retention differs between the two AB-groups.</p>"
   ]
  },
  {
   "cell_type": "code",
   "execution_count": 9,
   "id": "9f8fceab-b810-4eb7-84d0-3e185874b8c7",
   "metadata": {},
   "outputs": [
    {
     "data": {
      "text/plain": [
       "version\n",
       "gate_30    0.448188\n",
       "gate_40    0.442283\n",
       "Name: retention_1, dtype: float64"
      ]
     },
     "execution_count": 9,
     "metadata": {},
     "output_type": "execute_result"
    }
   ],
   "source": [
    "# Calculating 1-day retention for each AB-group\n",
    "df.groupby('version')['retention_1'].mean()"
   ]
  },
  {
   "cell_type": "markdown",
   "id": "fa9b1127-9729-4f9b-b5f2-6c6ddd068ed0",
   "metadata": {},
   "source": [
    "## 6. Should we be confident in the difference?\n",
    "<p>It appears that there was a slight decrease in 1-day retention when the gate was moved to level 40 (44.2%) compared to the control when it was at level 30 (44.8%). It's a small change, but even small changes in retention can have a large impact. But while we are certain of the difference in the data, how certain should we be that a gate at level 40 will be worse in the future?</p>\n",
    "<p>There are a couple of ways we can get at the certainty of these retention numbers. Here we will use bootstrapping: We will repeatedly re-sample our dataset (with replacement) and calculate 1-day retention for those samples. The variation in 1-day retention will give us an indication of how uncertain the retention numbers are.</p>\n",
    "<br>\n",
    "I am using two ways to perform A/B testing: \n",
    "\n",
    "###### 1. Calculation of the p-value. The null hypothesis is that retention of the gate_40 is less than that of the gate_30. The alternative hypothesis is the opposite.  \n",
    "\n",
    "\n",
    "> **$H_0$** : **$p_{experiment}$** - **$p_{control}$** <= 0      <br><br>\n",
    "    **$H_1$** :   **$p_{experiment}$** - **$p_{control}$**  > 0\n",
    "    \n",
    "\n",
    "###### 2. Looking at the difference of the means between both groups."
   ]
  },
  {
   "cell_type": "markdown",
   "id": "d527e92d-3e9f-4dbf-8b1f-33abaf535753",
   "metadata": {},
   "source": [
    "### 6.1. The calculation of the p-value:"
   ]
  },
  {
   "cell_type": "code",
   "execution_count": 10,
   "id": "6c5281f4-f438-4400-abeb-09cd8588f3e8",
   "metadata": {},
   "outputs": [],
   "source": [
    "# Calulating the observed difference between the retention proprtion of gate_40 and gate_30\n",
    "proportion_control = df[(df['retention_1'] == True) & (df['version'] == 'gate_30')].shape[0] / df[df['version'] == 'gate_30'].shape[0]\n",
    "proportion_experiment = df[(df['retention_1'] == True) & (df['version'] == 'gate_40')].shape[0] / df[df['version'] == 'gate_40'].shape[0]\n",
    "\n",
    "obs_diff = proportion_experiment - proportion_control\n",
    "\n",
    "# The percent of those who retained after 1 day (to be used as the probability when doing boot sampling)\n",
    "probability = df['retention_1'].mean()\n",
    "\n",
    "# The number of the individuals in each group\n",
    "n_control = df[df['version'] == 'gate_30'].shape[0]\n",
    "n_experiment = df[df['version'] == 'gate_40'].shape[0]"
   ]
  },
  {
   "cell_type": "code",
   "execution_count": 12,
   "id": "62a347c6-2c8b-42c1-a906-b89a9a0cdde6",
   "metadata": {},
   "outputs": [
    {
     "data": {
      "text/plain": [
       "<matplotlib.lines.Line2D at 0x1b33093ba30>"
      ]
     },
     "execution_count": 12,
     "metadata": {},
     "output_type": "execute_result"
    },
    {
     "data": {
      "image/png": "[encoded data removed]",
      "text/plain": [
       "<Figure size 432x288 with 1 Axes>"
      ]
     },
     "metadata": {
      "needs_background": "light"
     },
     "output_type": "display_data"
    }
   ],
   "source": [
    "import matplotlib.pyplot as plt\n",
    "import numpy as np\n",
    "\n",
    "boot_1d_control = np.random.binomial(n_control, probability, 10000) / n_control \n",
    "boot_1d_experiment = np.random.binomial(n_experiment, probability, 10000) / n_experiment\n",
    "p_diffs = boot_1d_experiment - boot_1d_control\n",
    "\n",
    "p_diffs = np.array(p_diffs)\n",
    "\n",
    "plt.hist(p_diffs)\n",
    "plt.axvline(obs_diff, color='r')"
   ]
  },
  {
   "cell_type": "code",
   "execution_count": 13,
   "id": "fcc9e359-f770-4bef-b3c8-a1f75195aa10",
   "metadata": {},
   "outputs": [
    {
     "data": {
      "text/plain": [
       "0.9641"
      ]
     },
     "execution_count": 13,
     "metadata": {},
     "output_type": "execute_result"
    },
    {
     "data": {
      "image/png": "[encoded data removed]",
      "text/plain": [
       "<Figure size 432x288 with 1 Axes>"
      ]
     },
     "metadata": {
      "needs_background": "light"
     },
     "output_type": "display_data"
    }
   ],
   "source": [
    "# Create a distribution following the null hypothesis (centred around 0), with the p_diffs standard deviation\n",
    "null_vals = np.random.normal(0, p_diffs.std(), p_diffs.size)\n",
    "\n",
    "plt.hist(null_vals)\n",
    "plt.axvline(obs_diff, color='r')\n",
    "\n",
    "# p-value:\n",
    "p_value = (null_vals > obs_diff).mean()\n",
    "p_value"
   ]
  },
  {
   "cell_type": "markdown",
   "id": "983f87a9-e8b4-4bc3-8d86-d18293ca55ca",
   "metadata": {},
   "source": [
    "### Conclusion:\n",
    "\n",
    "##### 1. The p-value is the probability of observing our statistic or a more extreme statistic under the null hypothesis. In this case, it is the probability of having the actual observed difference between the means of the retention rates (new to old) happening under the null hypothesis.\n",
    "\n",
    "##### 2. The big value signifies that the actual observed difference came from the null, and we fail to reject the null hypothesis.\n",
    "\n",
    "##### This is also evident on the value being much greater than alpha (type I error rate):\n",
    "\n",
    "##### p-value (0.9641) > alpha (0.05)."
   ]
  },
  {
   "cell_type": "markdown",
   "id": "05a696dd-1c0e-4edd-8afe-8a7d87dab344",
   "metadata": {},
   "source": [
    "### 6.2. Looking at the difference of the means between both groups:"
   ]
  },
  {
   "cell_type": "code",
   "execution_count": 14,
   "id": "abac7bdd-ade1-47d2-aa49-927b48672a0a",
   "metadata": {},
   "outputs": [
    {
     "data": {
      "text/plain": [
       "<AxesSubplot:ylabel='Density'>"
      ]
     },
     "execution_count": 14,
     "metadata": {},
     "output_type": "execute_result"
    },
    {
     "data": {
      "image/png": "[encoded data removed]",
      "text/plain": [
       "<Figure size 432x288 with 1 Axes>"
      ]
     },
     "metadata": {
      "needs_background": "light"
     },
     "output_type": "display_data"
    }
   ],
   "source": [
    "# Creating an list with bootstrapped means for each AB-group\n",
    "iterations = 10000\n",
    "boot_1d = []\n",
    "for i in range(iterations):\n",
    "    boot_mean = df.sample(frac=1, replace=True).groupby('version')['retention_1'].mean()\n",
    "    boot_1d.append(boot_mean)\n",
    "    \n",
    "# Transforming the list to a DataFrame\n",
    "boot_1d = pd.DataFrame(boot_1d)\n",
    "    \n",
    "# A Kernel Density Estimate plot of the bootstrap distributions\n",
    "boot_1d.plot.kde()"
   ]
  },
  {
   "cell_type": "code",
   "execution_count": 15,
   "id": "2bd4b3be-aa77-4a5b-abe6-46e31259b489",
   "metadata": {},
   "outputs": [
    {
     "data": {
      "text/plain": [
       "Text(0.5, 0, '% difference in means')"
      ]
     },
     "execution_count": 15,
     "metadata": {},
     "output_type": "execute_result"
    },
    {
     "data": {
      "image/png": "[encoded data removed]",
      "text/plain": [
       "<Figure size 432x288 with 1 Axes>"
      ]
     },
     "metadata": {
      "needs_background": "light"
     },
     "output_type": "display_data"
    }
   ],
   "source": [
    "# Plotting the difference between both groups:\n",
    "\n",
    "# Adding a column with the % difference between the two AB-groups\n",
    "\n",
    "boot_1d['diff'] = (boot_1d['gate_30'] - boot_1d['gate_40']) / boot_1d['gate_40'] * 100\n",
    "\n",
    "# Ploting the bootstrap % difference\n",
    "ax = boot_1d['diff'].plot.kde()\n",
    "ax.set_xlabel(\"% difference in means\")"
   ]
  },
  {
   "cell_type": "markdown",
   "id": "ad52230c-2836-49fa-863b-f4db937941b6",
   "metadata": {},
   "source": [
    "From this chart, we can see that the most likely % difference is around 1% - 2%, and that most of the distribution is above 0%, in favor of a gate at level 30. But what is the <em>probability</em> that the difference is above 0%? Let's calculate that as well.</p>"
   ]
  },
  {
   "cell_type": "code",
   "execution_count": 16,
   "id": "f2298a8e-79ac-496e-85a6-b2c7f41f19be",
   "metadata": {},
   "outputs": [
    {
     "name": "stdout",
     "output_type": "stream",
     "text": [
      "96.4%\n"
     ]
    }
   ],
   "source": [
    "# Calculating the probability that 1-day retention is greater when the gate is at level 30\n",
    "# prob = boot_1d[boot_1d['diff'] > 0] / len(boot_1d)\n",
    "prob = (boot_1d['diff'] > 0).mean()\n",
    "\n",
    "# Pretty printing the probability\n",
    "# '{:.1%}'.format(prob)\n",
    "print(f'{prob:.1%}')"
   ]
  },
  {
   "cell_type": "markdown",
   "id": "c3780318-3b83-41c0-8538-647c5549404d",
   "metadata": {},
   "source": [
    "## 9. 7-day retention by AB-group\n",
    "<p>The bootstrap analysis tells us that there is a high probability that 1-day retention is better when the gate is at level 30. However, since players have only been playing the game for one day, it is likely that most players haven't reached level 30 yet. That is, many players won't have been affected by the gate, even if it's as early as level 30. </p>\n",
    "<p>But after having played for a week, more players should have reached level 40, and therefore it makes sense to also look at 7-day retention. That is: What percentage of the people that installed the game also showed up a week later to play the game again.</p>\n",
    "<p>Let's start by calculating 7-day retention for the two AB-groups.</p>"
   ]
  },
  {
   "cell_type": "code",
   "execution_count": 17,
   "id": "ba5cb003-32d8-4fd9-b2bb-3e794edc4c32",
   "metadata": {},
   "outputs": [
    {
     "data": {
      "text/plain": [
       "version\n",
       "gate_30    0.190201\n",
       "gate_40    0.182000\n",
       "Name: retention_7, dtype: float64"
      ]
     },
     "execution_count": 17,
     "metadata": {},
     "output_type": "execute_result"
    }
   ],
   "source": [
    "# Calculating 7-day retention for both AB-groups\n",
    "df.groupby('version')['retention_7'].mean()"
   ]
  },
  {
   "cell_type": "markdown",
   "id": "c5fd2129-a7d3-4473-9bd1-bd60b10b292c",
   "metadata": {},
   "source": [
    "## 10. Bootstrapping the difference again\n",
    "<p>Like with 1-day retention, we see that 7-day retention is slightly lower (18.2%) when the gate is at level 40 than when the gate is at level 30 (19.0%). This difference is also larger than for 1-day retention, presumably because more players have had time to hit the first gate. We also see that the <em>overall</em> 7-day retention is lower than the <em>overall</em> 1-day retention; fewer people play a game a week after installing than a day after installing.</p>\n",
    "<p>But as before, let's use bootstrap analysis to figure out how certain we should be of the difference between the AB-groups.</p>"
   ]
  },
  {
   "cell_type": "markdown",
   "id": "9f43bb3c-d04e-471d-be7b-d0d165baed25",
   "metadata": {},
   "source": [
    "### 10.1. The calculation of the p-value:"
   ]
  },
  {
   "cell_type": "code",
   "execution_count": 18,
   "id": "3d1d5197-c746-4cc5-9369-8ce64465ee85",
   "metadata": {},
   "outputs": [
    {
     "data": {
      "text/plain": [
       "<matplotlib.lines.Line2D at 0x1b330b4a170>"
      ]
     },
     "execution_count": 18,
     "metadata": {},
     "output_type": "execute_result"
    },
    {
     "data": {
      "image/png": "[encoded data removed]",
      "text/plain": [
       "<Figure size 432x288 with 1 Axes>"
      ]
     },
     "metadata": {
      "needs_background": "light"
     },
     "output_type": "display_data"
    }
   ],
   "source": [
    "# Calulating the observed difference between the retention proprtion of gate_40 and gate_30\n",
    "proportion_control = df[(df['retention_7'] == True) & (df['version'] == 'gate_30')].shape[0] / df[df['version'] == 'gate_30'].shape[0]\n",
    "proportion_experiment = df[(df['retention_7'] == True) & (df['version'] == 'gate_40')].shape[0] / df[df['version'] == 'gate_40'].shape[0]\n",
    "\n",
    "obs_diff = proportion_experiment - proportion_control\n",
    "\n",
    "# The percent of those who retained after 1 day (to be used as the probability when doing boot sampling)\n",
    "probability = df['retention_7'].mean()\n",
    "\n",
    "# The number of the individuals in each group\n",
    "n_control = df[df['version'] == 'gate_30'].shape[0]\n",
    "n_experiment = df[df['version'] == 'gate_40'].shape[0]\n",
    "\n",
    "boot_7d_control = np.random.binomial(n_control, probability, 10000) / n_control \n",
    "boot_7d_experiment = np.random.binomial(n_experiment, probability, 10000) / n_experiment\n",
    "p_diffs = boot_7d_experiment - boot_7d_control\n",
    "\n",
    "p_diffs = np.array(p_diffs)\n",
    "\n",
    "plt.hist(p_diffs)\n",
    "plt.axvline(obs_diff, color='r')"
   ]
  },
  {
   "cell_type": "code",
   "execution_count": 19,
   "id": "82b65532-1148-4a2c-9ce0-78d1fbc6c8ff",
   "metadata": {},
   "outputs": [
    {
     "data": {
      "text/plain": [
       "0.9993"
      ]
     },
     "execution_count": 19,
     "metadata": {},
     "output_type": "execute_result"
    },
    {
     "data": {
      "image/png": "[encoded data removed]",
      "text/plain": [
       "<Figure size 432x288 with 1 Axes>"
      ]
     },
     "metadata": {
      "needs_background": "light"
     },
     "output_type": "display_data"
    }
   ],
   "source": [
    "# Create a distribution following the null hypothesis (centred around 0), with the p_diffs standard deviation\n",
    "null_vals = np.random.normal(0, p_diffs.std(), p_diffs.size)\n",
    "\n",
    "plt.hist(null_vals)\n",
    "plt.axvline(obs_diff, color='r')\n",
    "\n",
    "# p-value:\n",
    "p_value = (null_vals > obs_diff).mean()\n",
    "p_value"
   ]
  },
  {
   "cell_type": "markdown",
   "id": "e6261b60-17ee-4af6-a04b-83be0593d1e9",
   "metadata": {},
   "source": [
    "### Conclusion:\n",
    "\n",
    "##### 1. The p-value is the probability of observing our statistic or a more extreme statistic under the null hypothesis. In this case, it is the probability of having the actual observed difference between the means of the retention rates (new to old) happening under the null hypothesis.\n",
    "\n",
    "##### 2. The big value signifies that the actual observed difference came from the null, and we fail to reject the null hypothesis.\n",
    "\n",
    "##### This is also evident on the value being much greater than alpha (type I error rate):\n",
    "\n",
    "##### p-value (0.9993) > alpha (0.05)."
   ]
  },
  {
   "cell_type": "markdown",
   "id": "97722de3-392d-4569-96b5-8f95d8d44b73",
   "metadata": {},
   "source": [
    "### 10.2. Looking at the difference of the means between both groups:"
   ]
  },
  {
   "cell_type": "code",
   "execution_count": 20,
   "id": "304bf6ea-99a2-4a77-a03e-cde80897ce3e",
   "metadata": {},
   "outputs": [
    {
     "data": {
      "text/plain": [
       "<AxesSubplot:ylabel='Density'>"
      ]
     },
     "execution_count": 20,
     "metadata": {},
     "output_type": "execute_result"
    },
    {
     "data": {
      "image/png": "[encoded data removed]",
      "text/plain": [
       "<Figure size 432x288 with 1 Axes>"
      ]
     },
     "metadata": {
      "needs_background": "light"
     },
     "output_type": "display_data"
    }
   ],
   "source": [
    "# Creating a list with bootstrapped means for each AB-group\n",
    "boot_7d = []\n",
    "for i in range(10000):\n",
    "    boot_mean = df.sample(frac=1, replace=True).groupby('version')['retention_7'].mean()\n",
    "    boot_7d.append(boot_mean)\n",
    "\n",
    "# Transforming the list to a DataFrame\n",
    "boot_7d = pd.DataFrame(boot_7d)\n",
    "    \n",
    "# A Kernel Density Estimate plot of the bootstrap distributions\n",
    "boot_7d.plot.kde()"
   ]
  },
  {
   "cell_type": "code",
   "execution_count": 21,
   "id": "02fb81c6-37b9-4419-9e21-83d1a8b3e850",
   "metadata": {},
   "outputs": [
    {
     "data": {
      "text/plain": [
       "Text(0.5, 0, '% difference in means')"
      ]
     },
     "execution_count": 21,
     "metadata": {},
     "output_type": "execute_result"
    },
    {
     "data": {
      "image/png": "[encoded data removed]",
      "text/plain": [
       "<Figure size 432x288 with 1 Axes>"
      ]
     },
     "metadata": {
      "needs_background": "light"
     },
     "output_type": "display_data"
    }
   ],
   "source": [
    "# Adding a column with the % difference between the two AB-groups\n",
    "boot_7d['diff'] = (boot_7d['gate_30'] - boot_7d['gate_40']) / boot_7d['gate_40'] * 100\n",
    "\n",
    "# Ploting the bootstrap % difference\n",
    "ax = boot_7d['diff'].plot.kde()\n",
    "ax.set_xlabel(\"% difference in means\")"
   ]
  },
  {
   "cell_type": "code",
   "execution_count": 22,
   "id": "e9e07063-b4d7-4a33-bbb1-dd8d6548b26b",
   "metadata": {},
   "outputs": [
    {
     "name": "stdout",
     "output_type": "stream",
     "text": [
      "100.0%\n"
     ]
    }
   ],
   "source": [
    "# Calculating the probability that 7-day retention is greater when the gate is at level 30\n",
    "prob = (boot_7d['diff'] > 0).mean()\n",
    "\n",
    "# Pretty printing the probability\n",
    "print(f'{prob:.1%}')"
   ]
  },
  {
   "cell_type": "markdown",
   "id": "6bc2c15b-91ae-4046-bc2e-1306d10fbde9",
   "metadata": {},
   "source": [
    "## 11.  The conclusion\n",
    "<p>The bootstrap result tells us that there is strong evidence that 7-day retention is higher when the gate is at level 30 than when it is at level 40. The conclusion is: If we want to keep retention high — both 1-day and 7-day retention — we should <strong>not</strong> move the gate from level 30 to level 40. There are, of course, other metrics we could look at, like the number of game rounds played or how much in-game purchases are made by the two AB-groups. But retention <em>is</em> one of the most important metrics. If we don't retain our player base, it doesn't matter how much money they spend in-game.</p>"
   ]
  }
 ],
 "metadata": {
  "kernelspec": {
   "display_name": "Python 3 (ipykernel)",
   "language": "python",
   "name": "python3"
  },
  "language_info": {
   "codemirror_mode": {
    "name": "ipython",
    "version": 3
   },
   "file_extension": ".py",
   "mimetype": "text/x-python",
   "name": "python",
   "nbconvert_exporter": "python",
   "pygments_lexer": "ipython3",
   "version": "3.10.1"
  }
 },
 "nbformat": 4,
 "nbformat_minor": 5
}
